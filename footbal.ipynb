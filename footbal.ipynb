{
 "cells": [
  {
   "cell_type": "code",
   "execution_count": 8,
   "id": "d54002b2-eb71-427e-a0eb-2f5b43be860a",
   "metadata": {
    "tags": []
   },
   "outputs": [
    {
     "name": "stdout",
     "output_type": "stream",
     "text": [
      "{'computer': 550, 'mobile': 339, 'car': 6000}\n",
      "6000\n",
      "3\n",
      "<class 'dict'>\n",
      "{'name': 'car', 'price': 7000, 'model': 'Audi'}\n"
     ]
    }
   ],
   "source": [
    "#dictionary\n",
    "\n",
    "products = {\n",
    "    \"computer\" : 550,\n",
    "    \"mobile\" : 339,\n",
    "    \"car\" :  6000\n",
    "    \n",
    "}\n",
    "\n",
    "print(products)\n",
    "\n",
    "print(products[\"car\"])\n",
    "\n",
    "print(len(products))\n",
    "print(type(products))\n",
    "\n",
    "\n",
    "Theproduct = dict(name = \"car\" , price = 7000 , model = \"Audi\")\n",
    "\n",
    "print(Theproduct)"
   ]
  },
  {
   "cell_type": "code",
   "execution_count": 58,
   "id": "711615fc-ea15-49fb-84e3-376966c15fac",
   "metadata": {
    "tags": []
   },
   "outputs": [
    {
     "name": "stdout",
     "output_type": "stream",
     "text": [
      "['11-14-2023', '11-15-2023', '11-17-2023']\n",
      "['Real Madrid', 'PSG', 'Man city']\n",
      "['Win', 'Loss', 'Draw']\n",
      "[3, 1, 1]\n",
      "[1, 2, 1]\n"
     ]
    }
   ],
   "source": [
    "# Team loss and win data\n",
    "data = {\n",
    "    'Date': ['11-14-2023', '11-15-2023', '11-17-2023'],\n",
    "    'Versus': ['Real Madrid', 'PSG',\"Man city\"],\n",
    "    'Result': ['Win', 'Loss', 'Draw'],\n",
    "    'Score': [3, 1, 1],\n",
    "    'Surrendered': [1, 2, 1],\n",
    "}\n",
    "\n",
    "for x in data:\n",
    "    print(data[x])\n"
   ]
  },
  {
   "cell_type": "code",
   "execution_count": 109,
   "id": "66999a7f-4795-4b17-8f41-dd7d198445d3",
   "metadata": {
    "tags": []
   },
   "outputs": [
    {
     "name": "stdout",
     "output_type": "stream",
     "text": [
      "Date: 11-14-2023 Versus: Real Madrid Result: Win Goals Scored: 4\n",
      "Date: 11-15-2023 Versus: PSG Result: Loss Goals Scored: 2\n",
      "\n",
      "Performance Analysis:\n",
      "Total Wins:  1\n",
      "Total Losses: 1\n",
      "Total Draws: 0\n",
      "Total Goals Scored: 6\n",
      "Total Goals Surrendered: 4\n",
      "\n",
      "\n",
      "the  Vinicius Junior scored 2\n",
      "the  Neymar scored 1\n",
      "the  Karim Benzema scored 2\n",
      "the  Kalian Mpape scored 1\n",
      "\n",
      "\n",
      "the players injured in Real madrid are  ('Toni Kroos', 'Daniel Carvajal')\n",
      "the players injured in PSG is  Marquinhos\n"
     ]
    }
   ],
   "source": [
    "#football performance \n",
    "\n",
    "Date = ['11-14-2023', '11-15-2023']\n",
    "Versus = ['Real Madrid', 'PSG']\n",
    "Result = ['Win', 'Loss']\n",
    "Score = [4, 2]\n",
    "Surrendered = [1, 3]\n",
    "\n",
    "results = list(zip(Date, Versus, Result, Score, Surrendered))\n",
    "Real_players = [\"Vinicius Junior\" ,\"Karim Benzema\"]\n",
    "PSG_players = [\"Neymar\",\"Kalian Mpape\"]\n",
    "\n",
    "mix_player = list(zip(Real_players,PSG_players))\n",
    "\n",
    "wins = 0\n",
    "losses = 0\n",
    "draws = 0\n",
    "total_goals_scored = 0\n",
    "total_goals_surrendered = 0\n",
    "\n",
    "for date, versus, result, goals_scored, goals_surrendered in results:\n",
    "    print(\"Date:\", date, \"Versus:\", versus, \"Result:\", result, \"Goals Scored:\", goals_scored)\n",
    "    \n",
    "\n",
    "\n",
    "    if result == 'Win':\n",
    "        wins += 1\n",
    "    elif result == 'Loss':\n",
    "        losses += 1\n",
    "    else:\n",
    "        draws += 1\n",
    "\n",
    "    total_goals_scored += goals_scored\n",
    "    total_goals_surrendered += goals_surrendered\n",
    "\n",
    "print(\"\\nPerformance Analysis:\")\n",
    "print(\"Total Wins: \",wins)\n",
    "print(\"Total Losses:\",losses)\n",
    "print(\"Total Draws:\", draws)\n",
    "print(\"Total Goals Scored:\", total_goals_scored)\n",
    "print(\"Total Goals Surrendered:\", total_goals_surrendered)\n",
    "\n",
    "print(\"\\n\")\n",
    "\n",
    "realmadrid = \"injury\"\n",
    "PSG = \"injury\"\n",
    "\n",
    "inj_player_real = \"Toni Kroos\", \"Daniel Carvajal\"\n",
    "inj_player_Psg = \"Marquinhos\"\n",
    "\n",
    "for Real_players,PSG_players in mix_player :\n",
    "    print(\"the \", Real_players , \"scored 2\")\n",
    "    print(\"the \", PSG_players , \"scored 1\")\n",
    "    \n",
    "print(\"\\n\")\n",
    "    \n",
    "if realmadrid == \"injury\" :\n",
    "    print(\"the players injured in Real madrid are \" ,inj_player_real)\n",
    "    \n",
    "if PSG == \"injury\" :\n",
    "    print(\"the players injured in PSG is \" ,inj_player_Psg)\n",
    "\n",
    "   \n"
   ]
  },
  {
   "cell_type": "code",
   "execution_count": null,
   "id": "32c73686-b9fd-42fa-a47f-a5062713acdf",
   "metadata": {
    "tags": []
   },
   "outputs": [],
   "source": []
  },
  {
   "cell_type": "code",
   "execution_count": null,
   "id": "985ba623-ba43-496f-a8ec-bb5ac4626de6",
   "metadata": {
    "tags": []
   },
   "outputs": [],
   "source": []
  },
  {
   "cell_type": "code",
   "execution_count": null,
   "id": "13fabef3-a380-4390-b80c-43ac8a536347",
   "metadata": {},
   "outputs": [],
   "source": []
  }
 ],
 "metadata": {
  "kernelspec": {
   "display_name": "Python 3 (ipykernel)",
   "language": "python",
   "name": "python3"
  },
  "language_info": {
   "codemirror_mode": {
    "name": "ipython",
    "version": 3
   },
   "file_extension": ".py",
   "mimetype": "text/x-python",
   "name": "python",
   "nbconvert_exporter": "python",
   "pygments_lexer": "ipython3",
   "version": "3.11.5"
  }
 },
 "nbformat": 4,
 "nbformat_minor": 5
}
